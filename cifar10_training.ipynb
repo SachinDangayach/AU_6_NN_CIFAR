{
  "cells": [
    {
      "cell_type": "markdown",
      "metadata": {},
      "source": [
        "# CIFAR-10 CNN Training with Advanced Convolutions 🚀\\n\n",
        "\\n\n",
        "This notebook demonstrates training a CNN with:\\n\n",
        "- Depthwise Separable Convolution\\n\n",
        "- Dilated Convolution\\n\n",
        "- Global Average Pooling\\n\n",
        "- Target: 85% accuracy, < 200k parameters"
      ]
    },
    {
      "cell_type": "code",
      "execution_count": null,
      "metadata": {},
      "outputs": [],
      "source": [
        "# Core imports\\n\n",
        "import torch\\n\n",
        "import torch.optim as optim\\n\n",
        "import torch.nn as nn\\n\n",
        "import numpy as np\\n\n",
        "import matplotlib.pyplot as plt\\n\n",
        "from torchsummary import summary\\n\n",
        "\\n\n",
        "# Set device\\n\n",
        "device = torch.device(\"cuda\" if torch.cuda.is_available() else \"cpu\")\\n\n",
        "print(f\"Using device: {device}\")"
      ]
    },
    {
      "cell_type": "code",
      "execution_count": null,
      "metadata": {},
      "outputs": [],
      "source": [
        "# Import modules\\n\n",
        "from models.cifar10_net import CIFAR10Net\\n\n",
        "from models.trainer import Trainer\\n\n",
        "from models.tester import Tester\\n\n",
        "from data.dataset import CIFAR10DataLoader\\n\n",
        "from utils.visualization import TrainerVisualizer\\n\n",
        "from config import Config\\n\n",
        "\\n\n",
        "# Initialize components\\n\n",
        "config = Config()\\n\n",
        "trainer = Trainer()\\n\n",
        "tester = Tester()\\n\n",
        "visualizer = TrainerVisualizer()\\n\n",
        "\\n\n",
        "print(\"✅ Modules imported successfully!\")"
      ]
    },
    {
      "cell_type": "code",
      "execution_count": null,
      "metadata": {},
      "outputs": [],
      "source": [
        "# Create and analyze model\\n\n",
        "model = CIFAR10Net(dropout_value=config.MODEL_DROPOUT)\\n\n",
        "model = model.to(device)\\n\n",
        "\\n\n",
        "# Print model summary\\n\n",
        "print(\"Model Architecture:\")\\n\n",
        "summary(model, input_size=(3, 32, 32))\\n\n",
        "\\n\n",
        "# Parameter analysis\\n\n",
        "param_count = model.count_parameters()\\n\n",
        "print(f\"\\nParameters: {param_count:,}\")\\n\n",
        "print(f\"Under 200k: {'✅' if param_count < 200000 else '❌'}\")"
      ]
    },
    {
      "cell_type": "code",
      "execution_count": null,
      "metadata": {},
      "outputs": [],
      "source": [
        "# Load data\\n\n",
        "data_loader = CIFAR10DataLoader(batch_size=config.DEFAULT_BATCH_SIZE)\\n\n",
        "train_loader, test_loader, classes, norm_params = data_loader.get_data()\\n\n",
        "\\n\n",
        "print(f\"Dataset loaded - Train: {len(train_loader.dataset):,}, Test: {len(test_loader.dataset):,}\")\\n\n",
        "print(f\"Classes: {classes}\")"
      ]
    },
    {
      "cell_type": "code",
      "execution_count": null,
      "metadata": {},
      "outputs": [],
      "source": [
        "# Setup training\\n\n",
        "optimizer = optim.SGD(model.parameters(), lr=0.1, momentum=0.9)\\n\n",
        "scheduler = torch.optim.lr_scheduler.StepLR(optimizer, step_size=10, gamma=0.1)\\n\n",
        "\\n\n",
        "print(f\"Optimizer: SGD(lr=0.1)\\])\\n\n",
        "print(f\"Epochs: {config.DEFAULT_EPOCHS}\")"
      ]
    },
    {
      "cell_type": "code",
      "execution_count": null,
      "metadata": {},
      "outputs": [],
      "source": [
        "# Training loop\\n\n",
        "train_losses = []\\n\n",
        "test_losses = []\\n\n",
        "train_accuracies = []\\n\n",
        "test_accuracies = []\\n\n",
        "\\n\n",
        "print(f\"🚀 Starting training for {config.DEFAULT_EPOCHS} epochs\")\\n\n",
        "\\n\n",
        "for epoch in range(config.DEFAULT_EPOCHS):\\n\n",
        "    print(f\"\\nEpoch {epoch + 1}/{config.DEFAULT_EPOCHS}\")\\n\n",
        "    \\n\n",
        "    # Training\\n\n",
        "    train_results = trainer.train(model, device, train_loader, optimizer, epoch)\\n\n",
        "    train_losses.extend(train_results['losses'])\\n\n",
        "    train_accuracies.extend(train_results['accuracies'])\\n\n",
        "    \\n\n",
        "    # Testing\\n\n",
        "    test_results = tester.test(model, device, test_loader)\\n\n",
        "    test_losses.append(test_results['loss'])\\n\n",
        "    test_accuracies.append(test_results['accuracy'])\\n\n",
        "    \\n\n",
        "    # Learning rate scheduling\\n\n",
        "    scheduler.step()\\n\n",
        "    \\n\n",
        "    print(f\"Train Acc: {train_results['final_accuracy']:.2f}%, Test Acc: {test_results['accuracy']:.2f}%\")\\n\n",
        "\\n\n",
        "print(\"Training completed!\")"
      ]
    },
    {
      "cell_type": "code",
      "execution_count": null,
      "metadata": {},
      "outputs": [],
      "source": [
        "# Plot results\\n\n",
        "visualizer.plot_training_curves(train_losses, train_accuracies, test_losses, test_accuracies)"
      ]
    },
    {
      "cell_type": "code",
      "execution_count": null,
      "metadata": {},
      "outputs": [],
      "source": [
        "# Generate report\\n\n",
        "report = tester.generate_classification_report(model, test_loader, classes, device)\\n\n",
        "print(f\"Final Accuracy: {report['accuracy']:.2%}\")\\n\n",
        "print(f\"Parameters: {model.count_parameters():,}\")"
      ]
    },
    {
      "cell_type": "code",
      "execution_count": null,
      "metadata": {},
      "outputs": [],
      "source": [
        "# Save model\\n\n",
        "torch.save({\\n\n",
        "    'model_state_dict': model.state_dict(),\\n\n",
        "    'model_class': CIFAR10Net,\\n\n",
        "    'classes': classes,\\n\n",
        "    'final_accuracy': report['accuracy']\\n\n",
        "}, 'cifar10_model.pth')\\n\n",
        "\\n\n",
        "print(\"Model saved successfully!\")"
      ]
    },
    {
      "cell_type": "markdown",
      "metadata": {},
      "source": [
        "## Data Loading and Training Preparation 📊"
      ]
    },
    {
      "cell_type": "code",
      "execution_count": null,
      "metadata": {},
      "outputs": [],
      "source": [
        "# Load CIFAR-10 data with Albumentations\n",
        "data_loader = CIFAR10DataLoader(batch_size=config.DEFAULT_BATCH_SIZE)\n",
        "train_loader, test_loader, classes, norm_params = data_loader.get_data()\n",
        "\n",
        "print(f\"Dataset: {len(train_loader.dataset):,} train, {len(test_loader.dataset):,} test\")\n",
        "print(f\"Classes: {classes}\")"
      ]
    },
    {
      "cell_type": "code",
      "execution_count": null,
      "metadata": {},
      "outputs": [],
      "source": [
        "# Visualize sample images\n",
        "visualizer.show_sample_images(train_loader, classes, undo_normalization=norm_params, num_images=12)"
      ]
    },
    {
      "cell_type": "markdown",
      "metadata": {},
      "source": [
        "## Training Setup 🚀"
      ]
    },
    {
      "cell_type": "code",
      "execution_count": null,
      "metadata": {},
      "outputs": [],
      "source": [
        "# Setup optimizer and scheduler\n",
        "optimizer = optim.SGD(model.parameters(), lr=config.DEFAULT_LEARNING_RATE, momentum=config.DEFAULT_MOMENTUM, weight_decay=config.DEFAULT_WEIGHT_DECAY)\n",
        "scheduler = StepLR(optimizer, step_size=config.LR_SCHEDULER_STEP_SIZE, gamma=config.LR_SCHEDULER_GAMMA)\n",
        "\n",
        "print(\"Training Configuration:\")\n",
        "print(f\"Optimizer: SGD with lr={config.DEFAULT_LEARNING_RATE}\")\n",
        "print(f\"Epochs: {config.DEFAULT_EPS}\")\n",
        "print(f\"Target: {config.TARGET_ACCURACY}% accuracy\")"
      ]
    }
  ],
  "metadata": {
    "kernelspec": {
      "display_name": "Python 3",
      "language": "python",
      "name": "python3"
    },
    "language_info": {
      "codemirror_mode": {
        "name": "ipython",
        "version": 3
      },
      "file_extension": ".py",
      "mimetype": "text/x-python",
      "name": "python",
      "nbconvert_exporter": "python",
      "pygments_lexer": "ipython3",
      "version": "3.8.10"
    },
    "nbformat": 4,
    "nbformat_minor": 4
  },
  "nbformat": 4,
  "nbformat_minor": 5
}
